{
 "cells": [
  {
   "cell_type": "code",
   "execution_count": 1,
   "id": "a2cf1cc7",
   "metadata": {
    "id": "a2cf1cc7"
   },
   "outputs": [
    {
     "name": "stderr",
     "output_type": "stream",
     "text": [
      "Matplotlib is building the font cache; this may take a moment.\n",
      "/anaconda/envs/azureml_py38/lib/python3.10/site-packages/xgboost/compat.py:36: FutureWarning: pandas.Int64Index is deprecated and will be removed from pandas in a future version. Use pandas.Index with the appropriate dtype instead.\n",
      "  from pandas import MultiIndex, Int64Index\n"
     ]
    }
   ],
   "source": [
    "import pandas as pd\n",
    "import numpy as np\n",
    "import matplotlib.pyplot as plt\n",
    "import seaborn as sns\n",
    "import datetime\n",
    "from tqdm import tqdm\n",
    "from sklearn.preprocessing import LabelEncoder\n",
    "from sklearn.feature_selection import SelectKBest\n",
    "from sklearn.feature_selection import chi2\n",
    "from sklearn.preprocessing import MinMaxScaler\n",
    "import xgboost as xgb\n",
    "import lightgbm as lgb\n",
    "#from catboost import CatBoostRegressor\n",
    "import warnings\n",
    "from sklearn.model_selection import StratifiedKFold, KFold\n",
    "from sklearn.metrics import accuracy_score, f1_score, roc_auc_score, log_loss\n",
    "warnings.filterwarnings('ignore')"
   ]
  },
  {
   "cell_type": "markdown",
   "id": "4202b319",
   "metadata": {
    "id": "4202b319"
   },
   "source": [
    "# Import Data"
   ]
  },
  {
   "cell_type": "code",
   "execution_count": 2,
   "id": "1e952249",
   "metadata": {
    "id": "1e952249"
   },
   "outputs": [],
   "source": [
    "data_train =pd.read_csv('train.csv')\n",
    "data_test_a = pd.read_csv('testA.csv')"
   ]
  },
  {
   "cell_type": "markdown",
   "id": "37423489",
   "metadata": {
    "id": "37423489"
   },
   "source": [
    "#  Feature Preprocessing"
   ]
  },
  {
   "cell_type": "markdown",
   "id": "52653199",
   "metadata": {
    "id": "52653199"
   },
   "source": [
    "Find numerical features and category features"
   ]
  },
  {
   "cell_type": "code",
   "execution_count": 3,
   "id": "791ce574",
   "metadata": {
    "id": "791ce574"
   },
   "outputs": [],
   "source": [
    "numerical_fea = list(data_train.select_dtypes(exclude=['object']).columns)\n",
    "category_fea = list(filter(lambda x: x not in numerical_fea,list(data_train.columns)))\n",
    "label = 'isDefault'\n",
    "numerical_fea.remove(label)"
   ]
  },
  {
   "cell_type": "markdown",
   "id": "35bdefb6",
   "metadata": {
    "id": "35bdefb6"
   },
   "source": [
    "## Handling missing values"
   ]
  },
  {
   "cell_type": "code",
   "execution_count": 4,
   "id": "a987767f",
   "metadata": {
    "colab": {
     "base_uri": "https://localhost:8080/",
     "height": 1000
    },
    "id": "a987767f",
    "outputId": "9bb8ba98-e98a-443f-aee5-9868572b6225"
   },
   "outputs": [
    {
     "data": {
      "text/plain": [
       "id                        0\n",
       "loanAmnt                  0\n",
       "term                      0\n",
       "interestRate              0\n",
       "installment               0\n",
       "grade                     0\n",
       "subGrade                  0\n",
       "employmentTitle           1\n",
       "employmentLength      46799\n",
       "homeOwnership             0\n",
       "annualIncome              0\n",
       "verificationStatus        0\n",
       "issueDate                 0\n",
       "isDefault                 0\n",
       "purpose                   0\n",
       "postCode                  1\n",
       "regionCode                0\n",
       "dti                     239\n",
       "delinquency_2years        0\n",
       "ficoRangeLow              0\n",
       "ficoRangeHigh             0\n",
       "openAcc                   0\n",
       "pubRec                    0\n",
       "pubRecBankruptcies      405\n",
       "revolBal                  0\n",
       "revolUtil               531\n",
       "totalAcc                  0\n",
       "initialListStatus         0\n",
       "applicationType           0\n",
       "earliesCreditLine         0\n",
       "title                     1\n",
       "policyCode                0\n",
       "n0                    40270\n",
       "n1                    40270\n",
       "n2                    40270\n",
       "n3                    40270\n",
       "n4                    33239\n",
       "n5                    40270\n",
       "n6                    40270\n",
       "n7                    40270\n",
       "n8                    40271\n",
       "n9                    40270\n",
       "n10                   33239\n",
       "n11                   69752\n",
       "n12                   40270\n",
       "n13                   40270\n",
       "n14                   40270\n",
       "dtype: int64"
      ]
     },
     "execution_count": 4,
     "metadata": {},
     "output_type": "execute_result"
    }
   ],
   "source": [
    "data_train.isnull().sum()"
   ]
  },
  {
   "cell_type": "markdown",
   "id": "d639c371",
   "metadata": {
    "id": "d639c371"
   },
   "source": [
    "Fill numeric features by average"
   ]
  },
  {
   "cell_type": "code",
   "execution_count": 5,
   "id": "a53b28b0",
   "metadata": {
    "id": "a53b28b0"
   },
   "outputs": [],
   "source": [
    "data_train[numerical_fea] = data_train[numerical_fea].fillna(data_train[numerical_fea].median())\n",
    "data_test_a[numerical_fea] = data_test_a[numerical_fea].fillna(data_train[numerical_fea].median())"
   ]
  },
  {
   "cell_type": "markdown",
   "id": "34287635",
   "metadata": {
    "id": "34287635"
   },
   "source": [
    "Fill categorical features by majority"
   ]
  },
  {
   "cell_type": "code",
   "execution_count": 6,
   "id": "716efcaa",
   "metadata": {
    "id": "716efcaa"
   },
   "outputs": [],
   "source": [
    "data_train[category_fea] = data_train[category_fea].fillna(data_train[category_fea].mode())\n",
    "data_test_a[category_fea] = data_test_a[category_fea].fillna(data_train[category_fea].mode())"
   ]
  },
  {
   "cell_type": "markdown",
   "id": "7f360406",
   "metadata": {
    "id": "7f360406"
   },
   "source": [
    "##  Data type conversion"
   ]
  },
  {
   "cell_type": "code",
   "execution_count": 7,
   "id": "98db21ff",
   "metadata": {
    "id": "98db21ff"
   },
   "outputs": [],
   "source": [
    "for data in [data_train, data_test_a]:\n",
    "    data['issueDate'] = pd.to_datetime(data['issueDate'],format='%Y-%m-%d')\n",
    "    startdate = datetime.datetime.strptime('2007-06-01', '%Y-%m-%d')\n",
    "    data['issueDateDT'] = data['issueDate'].apply(lambda x: x-startdate).dt.days"
   ]
  },
  {
   "cell_type": "code",
   "execution_count": 8,
   "id": "c0c5ec2f",
   "metadata": {
    "colab": {
     "base_uri": "https://localhost:8080/",
     "height": 492
    },
    "id": "c0c5ec2f",
    "outputId": "a86979a1-4e6b-4bba-a9e9-6ba636cab497"
   },
   "outputs": [
    {
     "data": {
      "text/plain": [
       "0.0     15989\n",
       "1.0     13182\n",
       "2.0     18207\n",
       "3.0     16011\n",
       "4.0     11833\n",
       "5.0     12543\n",
       "6.0      9328\n",
       "7.0      8823\n",
       "8.0      8976\n",
       "9.0      7594\n",
       "10.0    65772\n",
       "NaN     11742\n",
       "Name: employmentLength, dtype: int64"
      ]
     },
     "execution_count": 8,
     "metadata": {},
     "output_type": "execute_result"
    }
   ],
   "source": [
    "def employmentLength_to_int(s):\n",
    "    if pd.isnull(s):\n",
    "        return s\n",
    "    else:\n",
    "        return np.int8(s.split()[0])\n",
    "for data in [data_train, data_test_a]:\n",
    "    data['employmentLength'].replace('10+ years', '10 years', inplace=True)\n",
    "    data['employmentLength'].replace('< 1 year', '0 years', inplace=True)\n",
    "    data['employmentLength'] = data['employmentLength'].apply(employmentLength_to_int)\n",
    "\n",
    "data['employmentLength'].value_counts(dropna=False).sort_index()"
   ]
  },
  {
   "cell_type": "code",
   "execution_count": 9,
   "id": "742b256b",
   "metadata": {
    "id": "742b256b"
   },
   "outputs": [],
   "source": [
    "for data in [data_train, data_test_a]:\n",
    "    data['earliesCreditLine'] = data['earliesCreditLine'].apply(lambda s: int(s[-4:]))"
   ]
  },
  {
   "cell_type": "markdown",
   "id": "4f7512a4",
   "metadata": {
    "id": "4f7512a4"
   },
   "source": [
    "## Objective data"
   ]
  },
  {
   "cell_type": "code",
   "execution_count": 10,
   "id": "bc91038e",
   "metadata": {
    "colab": {
     "base_uri": "https://localhost:8080/"
    },
    "id": "bc91038e",
    "outputId": "72b9b63a-2c31-4644-8886-9e2525648b1f"
   },
   "outputs": [
    {
     "name": "stdout",
     "output_type": "stream",
     "text": [
      "grade number of features: 7\n",
      "subGrade number of features: 35\n",
      "employmentTitle number of features: 79282\n",
      "homeOwnership number of features: 6\n",
      "verificationStatus number of features: 3\n",
      "purpose number of features: 14\n",
      "postCode number of features: 889\n",
      "regionCode number of features: 51\n",
      "applicationType number of features: 2\n",
      "initialListStatus number of features: 2\n",
      "title number of features: 12058\n",
      "policyCode number of features: 1\n"
     ]
    }
   ],
   "source": [
    "cate_features = ['grade', 'subGrade', 'employmentTitle', 'homeOwnership', 'verificationStatus', 'purpose', 'postCode', 'regionCode', \\\n",
    "                 'applicationType', 'initialListStatus', 'title', 'policyCode']\n",
    "for f in cate_features:\n",
    "    print(f, 'number of features:', data[f].nunique())"
   ]
  },
  {
   "cell_type": "code",
   "execution_count": 11,
   "id": "761a974f",
   "metadata": {
    "id": "761a974f"
   },
   "outputs": [],
   "source": [
    "for data in [data_train, data_test_a]:\n",
    "    data['grade'] = data['grade'].map({'A':1,'B':2,'C':3,'D':4,'E':5,'F':6,'G':7})"
   ]
  },
  {
   "cell_type": "code",
   "execution_count": 12,
   "id": "cd0fb455",
   "metadata": {
    "id": "cd0fb455"
   },
   "outputs": [],
   "source": [
    "for data in [data_train, data_test_a]:\n",
    "    data = pd.get_dummies(data, columns=['subGrade', 'homeOwnership', 'verificationStatus', 'purpose', 'regionCode'], drop_first=True)"
   ]
  },
  {
   "cell_type": "markdown",
   "id": "96f70f83",
   "metadata": {
    "id": "96f70f83"
   },
   "source": [
    "## Outlier treatment"
   ]
  },
  {
   "cell_type": "code",
   "execution_count": 13,
   "id": "cde0e02c",
   "metadata": {
    "id": "cde0e02c"
   },
   "outputs": [],
   "source": [
    "def find_outliers_by_3segama(data,fea):\n",
    "    data_std = np.std(data[fea])\n",
    "    data_mean = np.mean(data[fea])\n",
    "    outliers_cut_off = data_std * 3\n",
    "    lower_rule = data_mean - outliers_cut_off\n",
    "    upper_rule = data_mean + outliers_cut_off\n",
    "    data[fea+'_outliers'] = data[fea].apply(lambda x:True if x > upper_rule or x < lower_rule else False)\n",
    "    return data"
   ]
  },
  {
   "cell_type": "code",
   "execution_count": 14,
   "id": "6a38396a",
   "metadata": {
    "colab": {
     "base_uri": "https://localhost:8080/"
    },
    "id": "6a38396a",
    "outputId": "2e7636f4-7751-4292-d874-583f2282f4bc"
   },
   "outputs": [
    {
     "name": "stdout",
     "output_type": "stream",
     "text": [
      "False    800000\n",
      "Name: id_outliers, dtype: int64\n",
      "id_outliers  isDefault\n",
      "False        0            640390\n",
      "             1            159610\n",
      "Name: isDefault, dtype: int64\n",
      "**********\n",
      "False    800000\n",
      "Name: loanAmnt_outliers, dtype: int64\n",
      "loanAmnt_outliers  isDefault\n",
      "False              0            640390\n",
      "                   1            159610\n",
      "Name: isDefault, dtype: int64\n",
      "**********\n",
      "False    800000\n",
      "Name: term_outliers, dtype: int64\n",
      "term_outliers  isDefault\n",
      "False          0            640390\n",
      "               1            159610\n",
      "Name: isDefault, dtype: int64\n",
      "**********\n",
      "False    794259\n",
      "True       5741\n",
      "Name: interestRate_outliers, dtype: int64\n",
      "interestRate_outliers  isDefault\n",
      "False                  0            637565\n",
      "                       1            156694\n",
      "True                   1              2916\n",
      "                       0              2825\n",
      "Name: isDefault, dtype: int64\n",
      "**********\n",
      "False    792046\n",
      "True       7954\n",
      "Name: installment_outliers, dtype: int64\n",
      "installment_outliers  isDefault\n",
      "False                 0            634588\n",
      "                      1            157458\n",
      "True                  0              5802\n",
      "                      1              2152\n",
      "Name: isDefault, dtype: int64\n",
      "**********\n",
      "False    800000\n",
      "Name: employmentTitle_outliers, dtype: int64\n",
      "employmentTitle_outliers  isDefault\n",
      "False                     0            640390\n",
      "                          1            159610\n",
      "Name: isDefault, dtype: int64\n",
      "**********\n",
      "False    799701\n",
      "True        299\n",
      "Name: homeOwnership_outliers, dtype: int64\n",
      "homeOwnership_outliers  isDefault\n",
      "False                   0            640153\n",
      "                        1            159548\n",
      "True                    0               237\n",
      "                        1                62\n",
      "Name: isDefault, dtype: int64\n",
      "**********\n",
      "False    793973\n",
      "True       6027\n",
      "Name: annualIncome_outliers, dtype: int64\n",
      "annualIncome_outliers  isDefault\n",
      "False                  0            635119\n",
      "                       1            158854\n",
      "True                   0              5271\n",
      "                       1               756\n",
      "Name: isDefault, dtype: int64\n",
      "**********\n",
      "False    800000\n",
      "Name: verificationStatus_outliers, dtype: int64\n",
      "verificationStatus_outliers  isDefault\n",
      "False                        0            640390\n",
      "                             1            159610\n",
      "Name: isDefault, dtype: int64\n",
      "**********\n",
      "False    783003\n",
      "True      16997\n",
      "Name: purpose_outliers, dtype: int64\n",
      "purpose_outliers  isDefault\n",
      "False             0            627028\n",
      "                  1            155975\n",
      "True              0             13362\n",
      "                  1              3635\n",
      "Name: isDefault, dtype: int64\n",
      "**********\n",
      "False    798931\n",
      "True       1069\n",
      "Name: postCode_outliers, dtype: int64\n",
      "postCode_outliers  isDefault\n",
      "False              0            639542\n",
      "                   1            159389\n",
      "True               0               848\n",
      "                   1               221\n",
      "Name: isDefault, dtype: int64\n",
      "**********\n",
      "False    799994\n",
      "True          6\n",
      "Name: regionCode_outliers, dtype: int64\n",
      "regionCode_outliers  isDefault\n",
      "False                0            640385\n",
      "                     1            159609\n",
      "True                 0                 5\n",
      "                     1                 1\n",
      "Name: isDefault, dtype: int64\n",
      "**********\n",
      "False    798440\n",
      "True       1560\n",
      "Name: dti_outliers, dtype: int64\n",
      "dti_outliers  isDefault\n",
      "False         0            639296\n",
      "              1            159144\n",
      "True          0              1094\n",
      "              1               466\n",
      "Name: isDefault, dtype: int64\n",
      "**********\n",
      "False    778245\n",
      "True      21755\n",
      "Name: delinquency_2years_outliers, dtype: int64\n",
      "delinquency_2years_outliers  isDefault\n",
      "False                        0            623724\n",
      "                             1            154521\n",
      "True                         0             16666\n",
      "                             1              5089\n",
      "Name: isDefault, dtype: int64\n",
      "**********\n",
      "False    788261\n",
      "True      11739\n",
      "Name: ficoRangeLow_outliers, dtype: int64\n",
      "ficoRangeLow_outliers  isDefault\n",
      "False                  0            629429\n",
      "                       1            158832\n",
      "True                   0             10961\n",
      "                       1               778\n",
      "Name: isDefault, dtype: int64\n",
      "**********\n",
      "False    788261\n",
      "True      11739\n",
      "Name: ficoRangeHigh_outliers, dtype: int64\n",
      "ficoRangeHigh_outliers  isDefault\n",
      "False                   0            629429\n",
      "                        1            158832\n",
      "True                    0             10961\n",
      "                        1               778\n",
      "Name: isDefault, dtype: int64\n",
      "**********\n",
      "False    790889\n",
      "True       9111\n",
      "Name: openAcc_outliers, dtype: int64\n",
      "openAcc_outliers  isDefault\n",
      "False             0            633474\n",
      "                  1            157415\n",
      "True              0              6916\n",
      "                  1              2195\n",
      "Name: isDefault, dtype: int64\n",
      "**********\n",
      "False    792471\n",
      "True       7529\n",
      "Name: pubRec_outliers, dtype: int64\n",
      "pubRec_outliers  isDefault\n",
      "False            0            634562\n",
      "                 1            157909\n",
      "True             0              5828\n",
      "                 1              1701\n",
      "Name: isDefault, dtype: int64\n",
      "**********\n",
      "False    794120\n",
      "True       5880\n",
      "Name: pubRecBankruptcies_outliers, dtype: int64\n",
      "pubRecBankruptcies_outliers  isDefault\n",
      "False                        0            635933\n",
      "                             1            158187\n",
      "True                         0              4457\n",
      "                             1              1423\n",
      "Name: isDefault, dtype: int64\n",
      "**********\n",
      "False    790001\n",
      "True       9999\n",
      "Name: revolBal_outliers, dtype: int64\n",
      "revolBal_outliers  isDefault\n",
      "False              0            631750\n",
      "                   1            158251\n",
      "True               0              8640\n",
      "                   1              1359\n",
      "Name: isDefault, dtype: int64\n",
      "**********\n",
      "False    799948\n",
      "True         52\n",
      "Name: revolUtil_outliers, dtype: int64\n",
      "revolUtil_outliers  isDefault\n",
      "False               0            640361\n",
      "                    1            159587\n",
      "True                0                29\n",
      "                    1                23\n",
      "Name: isDefault, dtype: int64\n",
      "**********\n",
      "False    791663\n",
      "True       8337\n",
      "Name: totalAcc_outliers, dtype: int64\n",
      "totalAcc_outliers  isDefault\n",
      "False              0            633721\n",
      "                   1            157942\n",
      "True               0              6669\n",
      "                   1              1668\n",
      "Name: isDefault, dtype: int64\n",
      "**********\n",
      "False    800000\n",
      "Name: initialListStatus_outliers, dtype: int64\n",
      "initialListStatus_outliers  isDefault\n",
      "False                       0            640390\n",
      "                            1            159610\n",
      "Name: isDefault, dtype: int64\n",
      "**********\n",
      "False    784586\n",
      "True      15414\n",
      "Name: applicationType_outliers, dtype: int64\n",
      "applicationType_outliers  isDefault\n",
      "False                     0            628851\n",
      "                          1            155735\n",
      "True                      0             11539\n",
      "                          1              3875\n",
      "Name: isDefault, dtype: int64\n",
      "**********\n",
      "False    775134\n",
      "True      24866\n",
      "Name: title_outliers, dtype: int64\n",
      "title_outliers  isDefault\n",
      "False           0            619424\n",
      "                1            155710\n",
      "True            0             20966\n",
      "                1              3900\n",
      "Name: isDefault, dtype: int64\n",
      "**********\n",
      "False    800000\n",
      "Name: policyCode_outliers, dtype: int64\n",
      "policyCode_outliers  isDefault\n",
      "False                0            640390\n",
      "                     1            159610\n",
      "Name: isDefault, dtype: int64\n",
      "**********\n",
      "False    782773\n",
      "True      17227\n",
      "Name: n0_outliers, dtype: int64\n",
      "n0_outliers  isDefault\n",
      "False        0            626648\n",
      "             1            156125\n",
      "True         0             13742\n",
      "             1              3485\n",
      "Name: isDefault, dtype: int64\n",
      "**********\n",
      "False    790500\n",
      "True       9500\n",
      "Name: n1_outliers, dtype: int64\n",
      "n1_outliers  isDefault\n",
      "False        0            633381\n",
      "             1            157119\n",
      "True         0              7009\n",
      "             1              2491\n",
      "Name: isDefault, dtype: int64\n",
      "**********\n",
      "False    789067\n",
      "True      10933\n",
      "Name: n2_outliers, dtype: int64\n",
      "n2_outliers  isDefault\n",
      "False        0            632662\n",
      "             1            156405\n",
      "True         0              7728\n",
      "             1              3205\n",
      "Name: isDefault, dtype: int64\n",
      "**********\n",
      "False    789067\n",
      "True      10933\n",
      "Name: n3_outliers, dtype: int64\n",
      "n3_outliers  isDefault\n",
      "False        0            632662\n",
      "             1            156405\n",
      "True         0              7728\n",
      "             1              3205\n",
      "Name: isDefault, dtype: int64\n",
      "**********\n",
      "False    788660\n",
      "True      11340\n",
      "Name: n4_outliers, dtype: int64\n",
      "n4_outliers  isDefault\n",
      "False        0            631526\n",
      "             1            157134\n",
      "True         0              8864\n",
      "             1              2476\n",
      "Name: isDefault, dtype: int64\n",
      "**********\n",
      "False    790355\n",
      "True       9645\n",
      "Name: n5_outliers, dtype: int64\n",
      "n5_outliers  isDefault\n",
      "False        0            632603\n",
      "             1            157752\n",
      "True         0              7787\n",
      "             1              1858\n",
      "Name: isDefault, dtype: int64\n",
      "**********\n",
      "False    786006\n",
      "True      13994\n",
      "Name: n6_outliers, dtype: int64\n",
      "n6_outliers  isDefault\n",
      "False        0            629578\n",
      "             1            156428\n",
      "True         0             10812\n",
      "             1              3182\n",
      "Name: isDefault, dtype: int64\n",
      "**********\n",
      "False    788430\n",
      "True      11570\n",
      "Name: n7_outliers, dtype: int64\n",
      "n7_outliers  isDefault\n",
      "False        0            631566\n",
      "             1            156864\n",
      "True         0              8824\n",
      "             1              2746\n",
      "Name: isDefault, dtype: int64\n",
      "**********\n",
      "False    789625\n",
      "True      10375\n",
      "Name: n8_outliers, dtype: int64\n",
      "n8_outliers  isDefault\n",
      "False        0            632146\n",
      "             1            157479\n",
      "True         0              8244\n",
      "             1              2131\n",
      "Name: isDefault, dtype: int64\n",
      "**********\n",
      "False    786384\n",
      "True      13616\n",
      "Name: n9_outliers, dtype: int64\n",
      "n9_outliers  isDefault\n",
      "False        0            630727\n",
      "             1            155657\n",
      "True         0              9663\n",
      "             1              3953\n",
      "Name: isDefault, dtype: int64\n",
      "**********\n",
      "False    788979\n",
      "True      11021\n",
      "Name: n10_outliers, dtype: int64\n",
      "n10_outliers  isDefault\n",
      "False         0            632008\n",
      "              1            156971\n",
      "True          0              8382\n",
      "              1              2639\n",
      "Name: isDefault, dtype: int64\n",
      "**********\n",
      "False    799434\n",
      "True        566\n",
      "Name: n11_outliers, dtype: int64\n",
      "n11_outliers  isDefault\n",
      "False         0            639936\n",
      "              1            159498\n",
      "True          0               454\n",
      "              1               112\n",
      "Name: isDefault, dtype: int64\n",
      "**********\n",
      "False    797585\n",
      "True       2415\n",
      "Name: n12_outliers, dtype: int64\n",
      "n12_outliers  isDefault\n",
      "False         0            638520\n",
      "              1            159065\n",
      "True          0              1870\n",
      "              1               545\n",
      "Name: isDefault, dtype: int64\n",
      "**********\n",
      "False    788907\n",
      "True      11093\n",
      "Name: n13_outliers, dtype: int64\n",
      "n13_outliers  isDefault\n",
      "False         0            631779\n",
      "              1            157128\n",
      "True          0              8611\n",
      "              1              2482\n",
      "Name: isDefault, dtype: int64\n",
      "**********\n",
      "False    788884\n",
      "True      11116\n",
      "Name: n14_outliers, dtype: int64\n",
      "n14_outliers  isDefault\n",
      "False         0            632638\n",
      "              1            156246\n",
      "True          0              7752\n",
      "              1              3364\n",
      "Name: isDefault, dtype: int64\n",
      "**********\n"
     ]
    }
   ],
   "source": [
    "data_train = data_train.copy()\n",
    "for fea in numerical_fea:\n",
    "    data_train = find_outliers_by_3segama(data_train,fea)\n",
    "    print(data_train[fea+'_outliers'].value_counts())\n",
    "    print(data_train.groupby(fea+'_outliers')['isDefault'].value_counts())\n",
    "    print('*'*10)"
   ]
  },
  {
   "cell_type": "code",
   "execution_count": 15,
   "id": "1787648c",
   "metadata": {
    "id": "1787648c"
   },
   "outputs": [],
   "source": [
    "for fea in numerical_fea:\n",
    "    data_train=data_train[~data_train[fea+'_outliers']]\n",
    "    data_train=data_train.reset_index(drop=True)"
   ]
  },
  {
   "cell_type": "code",
   "execution_count": 16,
   "id": "ca6c0b89",
   "metadata": {
    "colab": {
     "base_uri": "https://localhost:8080/"
    },
    "id": "ca6c0b89",
    "outputId": "6c4dc9af-40b9-4dba-9921-a1e6110ed560"
   },
   "outputs": [
    {
     "name": "stdout",
     "output_type": "stream",
     "text": [
      "<class 'pandas.core.frame.DataFrame'>\n",
      "RangeIndex: 612742 entries, 0 to 612741\n",
      "Data columns (total 89 columns):\n",
      " #   Column                       Non-Null Count   Dtype         \n",
      "---  ------                       --------------   -----         \n",
      " 0   id                           612742 non-null  int64         \n",
      " 1   loanAmnt                     612742 non-null  float64       \n",
      " 2   term                         612742 non-null  int64         \n",
      " 3   interestRate                 612742 non-null  float64       \n",
      " 4   installment                  612742 non-null  float64       \n",
      " 5   grade                        612742 non-null  int64         \n",
      " 6   subGrade                     612742 non-null  object        \n",
      " 7   employmentTitle              612742 non-null  float64       \n",
      " 8   employmentLength             577657 non-null  float64       \n",
      " 9   homeOwnership                612742 non-null  int64         \n",
      " 10  annualIncome                 612742 non-null  float64       \n",
      " 11  verificationStatus           612742 non-null  int64         \n",
      " 12  issueDate                    612742 non-null  datetime64[ns]\n",
      " 13  isDefault                    612742 non-null  int64         \n",
      " 14  purpose                      612742 non-null  int64         \n",
      " 15  postCode                     612742 non-null  float64       \n",
      " 16  regionCode                   612742 non-null  int64         \n",
      " 17  dti                          612742 non-null  float64       \n",
      " 18  delinquency_2years           612742 non-null  float64       \n",
      " 19  ficoRangeLow                 612742 non-null  float64       \n",
      " 20  ficoRangeHigh                612742 non-null  float64       \n",
      " 21  openAcc                      612742 non-null  float64       \n",
      " 22  pubRec                       612742 non-null  float64       \n",
      " 23  pubRecBankruptcies           612742 non-null  float64       \n",
      " 24  revolBal                     612742 non-null  float64       \n",
      " 25  revolUtil                    612742 non-null  float64       \n",
      " 26  totalAcc                     612742 non-null  float64       \n",
      " 27  initialListStatus            612742 non-null  int64         \n",
      " 28  applicationType              612742 non-null  int64         \n",
      " 29  earliesCreditLine            612742 non-null  int64         \n",
      " 30  title                        612742 non-null  float64       \n",
      " 31  policyCode                   612742 non-null  float64       \n",
      " 32  n0                           612742 non-null  float64       \n",
      " 33  n1                           612742 non-null  float64       \n",
      " 34  n2                           612742 non-null  float64       \n",
      " 35  n3                           612742 non-null  float64       \n",
      " 36  n4                           612742 non-null  float64       \n",
      " 37  n5                           612742 non-null  float64       \n",
      " 38  n6                           612742 non-null  float64       \n",
      " 39  n7                           612742 non-null  float64       \n",
      " 40  n8                           612742 non-null  float64       \n",
      " 41  n9                           612742 non-null  float64       \n",
      " 42  n10                          612742 non-null  float64       \n",
      " 43  n11                          612742 non-null  float64       \n",
      " 44  n12                          612742 non-null  float64       \n",
      " 45  n13                          612742 non-null  float64       \n",
      " 46  n14                          612742 non-null  float64       \n",
      " 47  issueDateDT                  612742 non-null  int64         \n",
      " 48  id_outliers                  612742 non-null  bool          \n",
      " 49  loanAmnt_outliers            612742 non-null  bool          \n",
      " 50  term_outliers                612742 non-null  bool          \n",
      " 51  interestRate_outliers        612742 non-null  bool          \n",
      " 52  installment_outliers         612742 non-null  bool          \n",
      " 53  employmentTitle_outliers     612742 non-null  bool          \n",
      " 54  homeOwnership_outliers       612742 non-null  bool          \n",
      " 55  annualIncome_outliers        612742 non-null  bool          \n",
      " 56  verificationStatus_outliers  612742 non-null  bool          \n",
      " 57  purpose_outliers             612742 non-null  bool          \n",
      " 58  postCode_outliers            612742 non-null  bool          \n",
      " 59  regionCode_outliers          612742 non-null  bool          \n",
      " 60  dti_outliers                 612742 non-null  bool          \n",
      " 61  delinquency_2years_outliers  612742 non-null  bool          \n",
      " 62  ficoRangeLow_outliers        612742 non-null  bool          \n",
      " 63  ficoRangeHigh_outliers       612742 non-null  bool          \n",
      " 64  openAcc_outliers             612742 non-null  bool          \n",
      " 65  pubRec_outliers              612742 non-null  bool          \n",
      " 66  pubRecBankruptcies_outliers  612742 non-null  bool          \n",
      " 67  revolBal_outliers            612742 non-null  bool          \n",
      " 68  revolUtil_outliers           612742 non-null  bool          \n",
      " 69  totalAcc_outliers            612742 non-null  bool          \n",
      " 70  initialListStatus_outliers   612742 non-null  bool          \n",
      " 71  applicationType_outliers     612742 non-null  bool          \n",
      " 72  title_outliers               612742 non-null  bool          \n",
      " 73  policyCode_outliers          612742 non-null  bool          \n",
      " 74  n0_outliers                  612742 non-null  bool          \n",
      " 75  n1_outliers                  612742 non-null  bool          \n",
      " 76  n2_outliers                  612742 non-null  bool          \n",
      " 77  n3_outliers                  612742 non-null  bool          \n",
      " 78  n4_outliers                  612742 non-null  bool          \n",
      " 79  n5_outliers                  612742 non-null  bool          \n",
      " 80  n6_outliers                  612742 non-null  bool          \n",
      " 81  n7_outliers                  612742 non-null  bool          \n",
      " 82  n8_outliers                  612742 non-null  bool          \n",
      " 83  n9_outliers                  612742 non-null  bool          \n",
      " 84  n10_outliers                 612742 non-null  bool          \n",
      " 85  n11_outliers                 612742 non-null  bool          \n",
      " 86  n12_outliers                 612742 non-null  bool          \n",
      " 87  n13_outliers                 612742 non-null  bool          \n",
      " 88  n14_outliers                 612742 non-null  bool          \n",
      "dtypes: bool(41), datetime64[ns](1), float64(34), int64(12), object(1)\n",
      "memory usage: 248.4+ MB\n"
     ]
    }
   ],
   "source": [
    "data_train.info()"
   ]
  },
  {
   "cell_type": "code",
   "execution_count": 17,
   "id": "1wPluQ5azy0E",
   "metadata": {
    "id": "1wPluQ5azy0E"
   },
   "outputs": [],
   "source": [
    "# delete *_outliers\n",
    "data_train = data_train.drop(columns=[col for col in data_train.columns if col.endswith('_outliers')])"
   ]
  },
  {
   "cell_type": "markdown",
   "id": "7e80131c",
   "metadata": {
    "id": "7e80131c"
   },
   "source": [
    "# Feature Creation"
   ]
  },
  {
   "cell_type": "code",
   "execution_count": 18,
   "id": "693fdf13",
   "metadata": {
    "id": "693fdf13"
   },
   "outputs": [],
   "source": [
    "for col in ['grade', 'subGrade']:\n",
    "    temp_dict = data_train.groupby([col])['isDefault'].agg(['mean']).reset_index().rename(columns={'mean': col + '_target_mean'})\n",
    "    temp_dict.index = temp_dict[col].values\n",
    "    temp_dict = temp_dict[col + '_target_mean'].to_dict()\n",
    "\n",
    "    data_train[col + '_target_mean'] = data_train[col].map(temp_dict)\n",
    "    data_test_a[col + '_target_mean'] = data_test_a[col].map(temp_dict)"
   ]
  },
  {
   "cell_type": "code",
   "execution_count": 19,
   "id": "4f00ae0a",
   "metadata": {
    "id": "4f00ae0a"
   },
   "outputs": [],
   "source": [
    "for df in [data_train, data_test_a]:\n",
    "    for item in ['n0','n1','n2','n3','n4','n5','n6','n7','n8','n9','n10','n11','n12','n13','n14']:\n",
    "        df['grade_to_mean_' + item] = df['grade'] / df.groupby([item])['grade'].transform('mean')\n",
    "        df['grade_to_std_' + item] = df['grade'] / df.groupby([item])['grade'].transform('std')"
   ]
  },
  {
   "cell_type": "markdown",
   "id": "e00eedf8",
   "metadata": {
    "id": "e00eedf8"
   },
   "source": [
    "#  Feature Encoding"
   ]
  },
  {
   "cell_type": "code",
   "execution_count": 20,
   "id": "3abf58e8",
   "metadata": {
    "colab": {
     "base_uri": "https://localhost:8080/"
    },
    "id": "3abf58e8",
    "outputId": "e19065ab-9424-4365-9f86-de4ed9fe5d3f"
   },
   "outputs": [
    {
     "name": "stderr",
     "output_type": "stream",
     "text": [
      "100%|██████████| 4/4 [00:05<00:00,  1.41s/it]"
     ]
    },
    {
     "name": "stdout",
     "output_type": "stream",
     "text": [
      "Label Encoding finished\n"
     ]
    },
    {
     "name": "stderr",
     "output_type": "stream",
     "text": [
      "\n"
     ]
    }
   ],
   "source": [
    "for col in tqdm(['employmentTitle', 'postCode', 'title','subGrade']):\n",
    "    le = LabelEncoder()\n",
    "    le.fit(list(data_train[col].astype(str).values) + list(data_test_a[col].astype(str).values))\n",
    "    data_train[col] = le.transform(list(data_train[col].astype(str).values))\n",
    "    data_test_a[col] = le.transform(list(data_test_a[col].astype(str).values))\n",
    "print('Label Encoding finished')"
   ]
  },
  {
   "cell_type": "markdown",
   "id": "d38f21c2",
   "metadata": {
    "id": "d38f21c2"
   },
   "source": [
    "# Feature Selection"
   ]
  },
  {
   "cell_type": "code",
   "execution_count": 21,
   "id": "f5fd4850",
   "metadata": {
    "id": "f5fd4850"
   },
   "outputs": [],
   "source": [
    "for data in [data_train, data_test_a]:\n",
    "    data.drop(['issueDate','id'], axis=1,inplace=True)"
   ]
  },
  {
   "cell_type": "code",
   "execution_count": 22,
   "id": "f6d5e8d0",
   "metadata": {
    "id": "f6d5e8d0"
   },
   "outputs": [],
   "source": [
    "x_train = data_train.drop(['isDefault'], axis=1)\n",
    "#计算协方差\n",
    "data_corr = x_train.corrwith(data_train.isDefault) #计算相关性\n",
    "result = pd.DataFrame(columns=['features', 'corr'])\n",
    "result['features'] = data_corr.index\n",
    "result['corr'] = data_corr.values"
   ]
  },
  {
   "cell_type": "code",
   "execution_count": 23,
   "id": "75c7e8b7",
   "metadata": {
    "id": "75c7e8b7"
   },
   "outputs": [],
   "source": [
    "numerical_fea=['loanAmnt',\n",
    " 'term',\n",
    " 'interestRate',\n",
    " 'installment',\n",
    " 'employmentTitle',\n",
    " 'homeOwnership',\n",
    " 'annualIncome',\n",
    " 'verificationStatus',\n",
    " 'isDefault',\n",
    " 'purpose',\n",
    " 'postCode',\n",
    " 'regionCode',\n",
    " 'dti',\n",
    " 'delinquency_2years',\n",
    " 'ficoRangeLow',\n",
    " 'ficoRangeHigh',\n",
    " 'openAcc',\n",
    " 'pubRec',\n",
    " 'pubRecBankruptcies',\n",
    " 'revolBal',\n",
    " 'revolUtil',\n",
    " 'totalAcc',\n",
    " 'initialListStatus',\n",
    " 'applicationType',\n",
    " 'title',\n",
    " 'policyCode',\n",
    " 'n0',\n",
    " 'n1',\n",
    " 'n2',\n",
    " 'n3',\n",
    " 'n4',\n",
    " 'n5',\n",
    " 'n6',\n",
    " 'n7',\n",
    " 'n8',\n",
    " 'n9',\n",
    " 'n10',\n",
    " 'n11',\n",
    " 'n12',\n",
    " 'n13',\n",
    " 'n14']"
   ]
  },
  {
   "cell_type": "code",
   "execution_count": 24,
   "id": "3b591710",
   "metadata": {
    "colab": {
     "base_uri": "https://localhost:8080/",
     "height": 699
    },
    "id": "3b591710",
    "outputId": "93b865b1-9ea3-4cb0-9f3c-c540a9f35f4d"
   },
   "outputs": [
    {
     "data": {
      "text/plain": [
       "<Axes: title={'center': 'Correlation of Numeric Features with Price'}>"
      ]
     },
     "execution_count": 24,
     "metadata": {},
     "output_type": "execute_result"
    },
    {
     "data": {
      "image/png": "[encoded data removed]",
      "text/plain": [
       "<Figure size 700x700 with 2 Axes>"
      ]
     },
     "metadata": {},
     "output_type": "display_data"
    }
   ],
   "source": [
    "# 当然也可以直接看图\n",
    "data_numeric = data_train[numerical_fea]\n",
    "correlation = data_numeric.corr()\n",
    "\n",
    "f , ax = plt.subplots(figsize = (7, 7))\n",
    "plt.title('Correlation of Numeric Features with Price',y=1,size=16)\n",
    "sns.heatmap(correlation,square = True,  vmax=0.8)"
   ]
  },
  {
   "cell_type": "markdown",
   "id": "QLHxXnI_q1sj",
   "metadata": {
    "id": "QLHxXnI_q1sj"
   },
   "source": [
    "# Modeling\n"
   ]
  },
  {
   "cell_type": "code",
   "execution_count": 25,
   "id": "Hts72DTIrDuH",
   "metadata": {
    "id": "Hts72DTIrDuH"
   },
   "outputs": [],
   "source": [
    "from sklearn.model_selection import train_test_split\n",
    "from sklearn.metrics import roc_auc_score"
   ]
  },
  {
   "cell_type": "code",
   "execution_count": 26,
   "id": "V1xlVBA8q4pc",
   "metadata": {
    "id": "V1xlVBA8q4pc"
   },
   "outputs": [],
   "source": [
    "features = [col for col in data_train.columns if col != 'isDefault']\n",
    "X = data_train[features]\n",
    "y = data_train['isDefault']"
   ]
  },
  {
   "cell_type": "code",
   "execution_count": 27,
   "id": "hDTRBr-v7vZg",
   "metadata": {
    "colab": {
     "base_uri": "https://localhost:8080/"
    },
    "id": "hDTRBr-v7vZg",
    "outputId": "07df9e26-f3a2-4813-d1b4-96ba28e6120e"
   },
   "outputs": [
    {
     "name": "stdout",
     "output_type": "stream",
     "text": [
      "['loanAmnt', 'term', 'interestRate', 'installment', 'grade', 'subGrade', 'employmentTitle', 'employmentLength', 'homeOwnership', 'annualIncome', 'verificationStatus', 'purpose', 'postCode', 'regionCode', 'dti', 'delinquency_2years', 'ficoRangeLow', 'ficoRangeHigh', 'openAcc', 'pubRec', 'pubRecBankruptcies', 'revolBal', 'revolUtil', 'totalAcc', 'initialListStatus', 'applicationType', 'earliesCreditLine', 'title', 'policyCode', 'n0', 'n1', 'n2', 'n3', 'n4', 'n5', 'n6', 'n7', 'n8', 'n9', 'n10', 'n11', 'n12', 'n13', 'n14', 'issueDateDT', 'grade_target_mean', 'subGrade_target_mean', 'grade_to_mean_n0', 'grade_to_std_n0', 'grade_to_mean_n1', 'grade_to_std_n1', 'grade_to_mean_n2', 'grade_to_std_n2', 'grade_to_mean_n3', 'grade_to_std_n3', 'grade_to_mean_n4', 'grade_to_std_n4', 'grade_to_mean_n5', 'grade_to_std_n5', 'grade_to_mean_n6', 'grade_to_std_n6', 'grade_to_mean_n7', 'grade_to_std_n7', 'grade_to_mean_n8', 'grade_to_std_n8', 'grade_to_mean_n9', 'grade_to_std_n9', 'grade_to_mean_n10', 'grade_to_std_n10', 'grade_to_mean_n11', 'grade_to_std_n11', 'grade_to_mean_n12', 'grade_to_std_n12', 'grade_to_mean_n13', 'grade_to_std_n13', 'grade_to_mean_n14', 'grade_to_std_n14']\n"
     ]
    }
   ],
   "source": [
    "print(features)"
   ]
  },
  {
   "cell_type": "code",
   "execution_count": 28,
   "id": "0ZOYrk0sq8kI",
   "metadata": {
    "id": "0ZOYrk0sq8kI"
   },
   "outputs": [],
   "source": [
    "X_train, X_val, y_train, y_val = train_test_split(\n",
    "    X, y, test_size=0.2, random_state=42, stratify=y\n",
    ")"
   ]
  },
  {
   "cell_type": "code",
   "execution_count": 29,
   "id": "C1yGmCbGrJUc",
   "metadata": {
    "id": "C1yGmCbGrJUc"
   },
   "outputs": [],
   "source": [
    "dtrain = xgb.DMatrix(X_train, label=y_train)\n",
    "dval = xgb.DMatrix(X_val, label=y_val)"
   ]
  },
  {
   "cell_type": "code",
   "execution_count": 46,
   "id": "5CpNUYX1rNTS",
   "metadata": {
    "id": "5CpNUYX1rNTS"
   },
   "outputs": [],
   "source": [
    "params = {\n",
    "    'max_depth': 6,\n",
    "    'eta': 0.05,\n",
    "    'objective': 'binary:logistic',\n",
    "    'eval_metric': 'auc',\n",
    "    'verbosity': 1,\n",
    "    'tree_method': 'hist'  # 用 'gpu_hist' 可加速（如果有 GPU）\n",
    "}"
   ]
  },
  {
   "cell_type": "code",
   "execution_count": 49,
   "id": "MhETAo6rsvPl",
   "metadata": {
    "colab": {
     "base_uri": "https://localhost:8080/"
    },
    "id": "MhETAo6rsvPl",
    "outputId": "18379c70-0e7b-485c-8a9d-274443d1bee9"
   },
   "outputs": [
    {
     "name": "stdout",
     "output_type": "stream",
     "text": [
      "[0]\ttrain-auc:0.70518+0.00020\ttest-auc:0.70197+0.00207\n",
      "[50]\ttrain-auc:0.72368+0.00031\ttest-auc:0.71720+0.00188\n",
      "[100]\ttrain-auc:0.73439+0.00033\ttest-auc:0.72344+0.00175\n",
      "[150]\ttrain-auc:0.74173+0.00019\ttest-auc:0.72638+0.00172\n",
      "[200]\ttrain-auc:0.74769+0.00019\ttest-auc:0.72788+0.00173\n",
      "[250]\ttrain-auc:0.75284+0.00028\ttest-auc:0.72883+0.00168\n",
      "[300]\ttrain-auc:0.75732+0.00038\ttest-auc:0.72940+0.00165\n",
      "[350]\ttrain-auc:0.76134+0.00047\ttest-auc:0.72975+0.00165\n",
      "[400]\ttrain-auc:0.76520+0.00069\ttest-auc:0.73006+0.00159\n",
      "[450]\ttrain-auc:0.76878+0.00088\ttest-auc:0.73014+0.00152\n",
      "[500]\ttrain-auc:0.77241+0.00091\ttest-auc:0.73023+0.00152\n",
      "[550]\ttrain-auc:0.77578+0.00085\ttest-auc:0.73032+0.00153\n",
      "[600]\ttrain-auc:0.77907+0.00094\ttest-auc:0.73036+0.00154\n",
      "[650]\ttrain-auc:0.78227+0.00096\ttest-auc:0.73037+0.00154\n",
      "[673]\ttrain-auc:0.78372+0.00098\ttest-auc:0.73035+0.00154\n",
      "✅ 最佳轮数: 625\n"
     ]
    }
   ],
   "source": [
    "cv_results = xgb.cv(\n",
    "    params=params,\n",
    "    dtrain=dtrain,\n",
    "    num_boost_round=1000,\n",
    "    nfold=5,\n",
    "    stratified=True,\n",
    "    early_stopping_rounds=50,\n",
    "    verbose_eval=50,\n",
    "    seed=42\n",
    ")\n",
    "\n",
    "best_num_rounds = len(cv_results)\n",
    "print(f\"✅ 最佳轮数: {best_num_rounds}\")\n"
   ]
  },
  {
   "cell_type": "code",
   "execution_count": 48,
   "id": "72ZWLVY3rQJ8",
   "metadata": {
    "colab": {
     "base_uri": "https://localhost:8080/"
    },
    "id": "72ZWLVY3rQJ8",
    "outputId": "af6ea7ba-830c-47fb-e428-145915ab8912"
   },
   "outputs": [
    {
     "name": "stdout",
     "output_type": "stream",
     "text": [
      "[0]\ttrain-auc:0.70480\tvalid-auc:0.70299\n",
      "[50]\ttrain-auc:0.72237\tvalid-auc:0.71853\n"
     ]
    },
    {
     "ename": "KeyboardInterrupt",
     "evalue": "",
     "output_type": "error",
     "traceback": [
      "\u001b[0;31m---------------------------------------------------------------------------\u001b[0m",
      "\u001b[0;31mKeyboardInterrupt\u001b[0m                         Traceback (most recent call last)",
      "Cell \u001b[0;32mIn[48], line 1\u001b[0m\n\u001b[0;32m----> 1\u001b[0m bst \u001b[38;5;241m=\u001b[39m \u001b[43mxgb\u001b[49m\u001b[38;5;241;43m.\u001b[39;49m\u001b[43mtrain\u001b[49m\u001b[43m(\u001b[49m\n\u001b[1;32m      2\u001b[0m \u001b[43m    \u001b[49m\u001b[43mparams\u001b[49m\u001b[38;5;241;43m=\u001b[39;49m\u001b[43mparams\u001b[49m\u001b[43m,\u001b[49m\n\u001b[1;32m      3\u001b[0m \u001b[43m    \u001b[49m\u001b[43mdtrain\u001b[49m\u001b[38;5;241;43m=\u001b[39;49m\u001b[43mdtrain\u001b[49m\u001b[43m,\u001b[49m\n\u001b[1;32m      4\u001b[0m \u001b[43m    \u001b[49m\u001b[43mnum_boost_round\u001b[49m\u001b[38;5;241;43m=\u001b[39;49m\u001b[43mbest_num_rounds\u001b[49m\u001b[43m,\u001b[49m\n\u001b[1;32m      5\u001b[0m \u001b[43m    \u001b[49m\u001b[43mevals\u001b[49m\u001b[38;5;241;43m=\u001b[39;49m\u001b[43m[\u001b[49m\u001b[43m(\u001b[49m\u001b[43mdtrain\u001b[49m\u001b[43m,\u001b[49m\u001b[43m \u001b[49m\u001b[38;5;124;43m'\u001b[39;49m\u001b[38;5;124;43mtrain\u001b[39;49m\u001b[38;5;124;43m'\u001b[39;49m\u001b[43m)\u001b[49m\u001b[43m,\u001b[49m\u001b[43m \u001b[49m\u001b[43m(\u001b[49m\u001b[43mdval\u001b[49m\u001b[43m,\u001b[49m\u001b[43m \u001b[49m\u001b[38;5;124;43m'\u001b[39;49m\u001b[38;5;124;43mvalid\u001b[39;49m\u001b[38;5;124;43m'\u001b[39;49m\u001b[43m)\u001b[49m\u001b[43m]\u001b[49m\u001b[43m,\u001b[49m\n\u001b[1;32m      6\u001b[0m \u001b[43m    \u001b[49m\u001b[43mverbose_eval\u001b[49m\u001b[38;5;241;43m=\u001b[39;49m\u001b[38;5;241;43m50\u001b[39;49m\n\u001b[1;32m      7\u001b[0m \u001b[43m)\u001b[49m\n",
      "File \u001b[0;32m/anaconda/envs/azureml_py38/lib/python3.10/site-packages/xgboost/training.py:188\u001b[0m, in \u001b[0;36mtrain\u001b[0;34m(params, dtrain, num_boost_round, evals, obj, feval, maximize, early_stopping_rounds, evals_result, verbose_eval, xgb_model, callbacks)\u001b[0m\n\u001b[1;32m    115\u001b[0m \u001b[38;5;28;01mdef\u001b[39;00m\u001b[38;5;250m \u001b[39m\u001b[38;5;21mtrain\u001b[39m(params, dtrain, num_boost_round\u001b[38;5;241m=\u001b[39m\u001b[38;5;241m10\u001b[39m, evals\u001b[38;5;241m=\u001b[39m(), obj\u001b[38;5;241m=\u001b[39m\u001b[38;5;28;01mNone\u001b[39;00m, feval\u001b[38;5;241m=\u001b[39m\u001b[38;5;28;01mNone\u001b[39;00m,\n\u001b[1;32m    116\u001b[0m           maximize\u001b[38;5;241m=\u001b[39m\u001b[38;5;28;01mNone\u001b[39;00m, early_stopping_rounds\u001b[38;5;241m=\u001b[39m\u001b[38;5;28;01mNone\u001b[39;00m, evals_result\u001b[38;5;241m=\u001b[39m\u001b[38;5;28;01mNone\u001b[39;00m,\n\u001b[1;32m    117\u001b[0m           verbose_eval\u001b[38;5;241m=\u001b[39m\u001b[38;5;28;01mTrue\u001b[39;00m, xgb_model\u001b[38;5;241m=\u001b[39m\u001b[38;5;28;01mNone\u001b[39;00m, callbacks\u001b[38;5;241m=\u001b[39m\u001b[38;5;28;01mNone\u001b[39;00m):\n\u001b[1;32m    118\u001b[0m     \u001b[38;5;66;03m# pylint: disable=too-many-statements,too-many-branches, attribute-defined-outside-init\u001b[39;00m\n\u001b[1;32m    119\u001b[0m \u001b[38;5;250m    \u001b[39m\u001b[38;5;124;03m\"\"\"Train a booster with given parameters.\u001b[39;00m\n\u001b[1;32m    120\u001b[0m \n\u001b[1;32m    121\u001b[0m \u001b[38;5;124;03m    Parameters\u001b[39;00m\n\u001b[0;32m   (...)\u001b[0m\n\u001b[1;32m    186\u001b[0m \u001b[38;5;124;03m    Booster : a trained booster model\u001b[39;00m\n\u001b[1;32m    187\u001b[0m \u001b[38;5;124;03m    \"\"\"\u001b[39;00m\n\u001b[0;32m--> 188\u001b[0m     bst \u001b[38;5;241m=\u001b[39m \u001b[43m_train_internal\u001b[49m\u001b[43m(\u001b[49m\u001b[43mparams\u001b[49m\u001b[43m,\u001b[49m\u001b[43m \u001b[49m\u001b[43mdtrain\u001b[49m\u001b[43m,\u001b[49m\n\u001b[1;32m    189\u001b[0m \u001b[43m                          \u001b[49m\u001b[43mnum_boost_round\u001b[49m\u001b[38;5;241;43m=\u001b[39;49m\u001b[43mnum_boost_round\u001b[49m\u001b[43m,\u001b[49m\n\u001b[1;32m    190\u001b[0m \u001b[43m                          \u001b[49m\u001b[43mevals\u001b[49m\u001b[38;5;241;43m=\u001b[39;49m\u001b[43mevals\u001b[49m\u001b[43m,\u001b[49m\n\u001b[1;32m    191\u001b[0m \u001b[43m                          \u001b[49m\u001b[43mobj\u001b[49m\u001b[38;5;241;43m=\u001b[39;49m\u001b[43mobj\u001b[49m\u001b[43m,\u001b[49m\u001b[43m \u001b[49m\u001b[43mfeval\u001b[49m\u001b[38;5;241;43m=\u001b[39;49m\u001b[43mfeval\u001b[49m\u001b[43m,\u001b[49m\n\u001b[1;32m    192\u001b[0m \u001b[43m                          \u001b[49m\u001b[43mxgb_model\u001b[49m\u001b[38;5;241;43m=\u001b[39;49m\u001b[43mxgb_model\u001b[49m\u001b[43m,\u001b[49m\u001b[43m \u001b[49m\u001b[43mcallbacks\u001b[49m\u001b[38;5;241;43m=\u001b[39;49m\u001b[43mcallbacks\u001b[49m\u001b[43m,\u001b[49m\n\u001b[1;32m    193\u001b[0m \u001b[43m                          \u001b[49m\u001b[43mverbose_eval\u001b[49m\u001b[38;5;241;43m=\u001b[39;49m\u001b[43mverbose_eval\u001b[49m\u001b[43m,\u001b[49m\n\u001b[1;32m    194\u001b[0m \u001b[43m                          \u001b[49m\u001b[43mevals_result\u001b[49m\u001b[38;5;241;43m=\u001b[39;49m\u001b[43mevals_result\u001b[49m\u001b[43m,\u001b[49m\n\u001b[1;32m    195\u001b[0m \u001b[43m                          \u001b[49m\u001b[43mmaximize\u001b[49m\u001b[38;5;241;43m=\u001b[39;49m\u001b[43mmaximize\u001b[49m\u001b[43m,\u001b[49m\n\u001b[1;32m    196\u001b[0m \u001b[43m                          \u001b[49m\u001b[43mearly_stopping_rounds\u001b[49m\u001b[38;5;241;43m=\u001b[39;49m\u001b[43mearly_stopping_rounds\u001b[49m\u001b[43m)\u001b[49m\n\u001b[1;32m    197\u001b[0m     \u001b[38;5;28;01mreturn\u001b[39;00m bst\n",
      "File \u001b[0;32m/anaconda/envs/azureml_py38/lib/python3.10/site-packages/xgboost/training.py:82\u001b[0m, in \u001b[0;36m_train_internal\u001b[0;34m(params, dtrain, num_boost_round, evals, obj, feval, xgb_model, callbacks, evals_result, maximize, verbose_eval, early_stopping_rounds)\u001b[0m\n\u001b[1;32m     80\u001b[0m         \u001b[38;5;28;01mbreak\u001b[39;00m\n\u001b[1;32m     81\u001b[0m     bst\u001b[38;5;241m.\u001b[39mupdate(dtrain, i, obj)\n\u001b[0;32m---> 82\u001b[0m     \u001b[38;5;28;01mif\u001b[39;00m \u001b[43mcallbacks\u001b[49m\u001b[38;5;241;43m.\u001b[39;49m\u001b[43mafter_iteration\u001b[49m\u001b[43m(\u001b[49m\u001b[43mbst\u001b[49m\u001b[43m,\u001b[49m\u001b[43m \u001b[49m\u001b[43mi\u001b[49m\u001b[43m,\u001b[49m\u001b[43m \u001b[49m\u001b[43mdtrain\u001b[49m\u001b[43m,\u001b[49m\u001b[43m \u001b[49m\u001b[43mevals\u001b[49m\u001b[43m)\u001b[49m:\n\u001b[1;32m     83\u001b[0m         \u001b[38;5;28;01mbreak\u001b[39;00m\n\u001b[1;32m     85\u001b[0m bst \u001b[38;5;241m=\u001b[39m callbacks\u001b[38;5;241m.\u001b[39mafter_training(bst)\n",
      "File \u001b[0;32m/anaconda/envs/azureml_py38/lib/python3.10/site-packages/xgboost/callback.py:434\u001b[0m, in \u001b[0;36mCallbackContainer.after_iteration\u001b[0;34m(self, model, epoch, dtrain, evals)\u001b[0m\n\u001b[1;32m    432\u001b[0m \u001b[38;5;28;01mfor\u001b[39;00m _, name \u001b[38;5;129;01min\u001b[39;00m evals:\n\u001b[1;32m    433\u001b[0m     \u001b[38;5;28;01massert\u001b[39;00m name\u001b[38;5;241m.\u001b[39mfind(\u001b[38;5;124m'\u001b[39m\u001b[38;5;124m-\u001b[39m\u001b[38;5;124m'\u001b[39m) \u001b[38;5;241m==\u001b[39m \u001b[38;5;241m-\u001b[39m\u001b[38;5;241m1\u001b[39m, \u001b[38;5;124m'\u001b[39m\u001b[38;5;124mDataset name should not contain `-`\u001b[39m\u001b[38;5;124m'\u001b[39m\n\u001b[0;32m--> 434\u001b[0m score \u001b[38;5;241m=\u001b[39m \u001b[43mmodel\u001b[49m\u001b[38;5;241;43m.\u001b[39;49m\u001b[43meval_set\u001b[49m\u001b[43m(\u001b[49m\u001b[43mevals\u001b[49m\u001b[43m,\u001b[49m\u001b[43m \u001b[49m\u001b[43mepoch\u001b[49m\u001b[43m,\u001b[49m\u001b[43m \u001b[49m\u001b[38;5;28;43mself\u001b[39;49m\u001b[38;5;241;43m.\u001b[39;49m\u001b[43mmetric\u001b[49m\u001b[43m)\u001b[49m\n\u001b[1;32m    435\u001b[0m score \u001b[38;5;241m=\u001b[39m score\u001b[38;5;241m.\u001b[39msplit()[\u001b[38;5;241m1\u001b[39m:]  \u001b[38;5;66;03m# into datasets\u001b[39;00m\n\u001b[1;32m    436\u001b[0m \u001b[38;5;66;03m# split up `test-error:0.1234`\u001b[39;00m\n",
      "File \u001b[0;32m/anaconda/envs/azureml_py38/lib/python3.10/site-packages/xgboost/core.py:1744\u001b[0m, in \u001b[0;36mBooster.eval_set\u001b[0;34m(self, evals, iteration, feval)\u001b[0m\n\u001b[1;32m   1742\u001b[0m evnames \u001b[38;5;241m=\u001b[39m c_array(ctypes\u001b[38;5;241m.\u001b[39mc_char_p, [c_str(d[\u001b[38;5;241m1\u001b[39m]) \u001b[38;5;28;01mfor\u001b[39;00m d \u001b[38;5;129;01min\u001b[39;00m evals])\n\u001b[1;32m   1743\u001b[0m msg \u001b[38;5;241m=\u001b[39m ctypes\u001b[38;5;241m.\u001b[39mc_char_p()\n\u001b[0;32m-> 1744\u001b[0m _check_call(\u001b[43m_LIB\u001b[49m\u001b[38;5;241;43m.\u001b[39;49m\u001b[43mXGBoosterEvalOneIter\u001b[49m\u001b[43m(\u001b[49m\u001b[38;5;28;43mself\u001b[39;49m\u001b[38;5;241;43m.\u001b[39;49m\u001b[43mhandle\u001b[49m\u001b[43m,\u001b[49m\n\u001b[1;32m   1745\u001b[0m \u001b[43m                                      \u001b[49m\u001b[43mctypes\u001b[49m\u001b[38;5;241;43m.\u001b[39;49m\u001b[43mc_int\u001b[49m\u001b[43m(\u001b[49m\u001b[43miteration\u001b[49m\u001b[43m)\u001b[49m\u001b[43m,\u001b[49m\n\u001b[1;32m   1746\u001b[0m \u001b[43m                                      \u001b[49m\u001b[43mdmats\u001b[49m\u001b[43m,\u001b[49m\u001b[43m \u001b[49m\u001b[43mevnames\u001b[49m\u001b[43m,\u001b[49m\n\u001b[1;32m   1747\u001b[0m \u001b[43m                                      \u001b[49m\u001b[43mc_bst_ulong\u001b[49m\u001b[43m(\u001b[49m\u001b[38;5;28;43mlen\u001b[39;49m\u001b[43m(\u001b[49m\u001b[43mevals\u001b[49m\u001b[43m)\u001b[49m\u001b[43m)\u001b[49m\u001b[43m,\u001b[49m\n\u001b[1;32m   1748\u001b[0m \u001b[43m                                      \u001b[49m\u001b[43mctypes\u001b[49m\u001b[38;5;241;43m.\u001b[39;49m\u001b[43mbyref\u001b[49m\u001b[43m(\u001b[49m\u001b[43mmsg\u001b[49m\u001b[43m)\u001b[49m\u001b[43m)\u001b[49m)\n\u001b[1;32m   1749\u001b[0m res \u001b[38;5;241m=\u001b[39m msg\u001b[38;5;241m.\u001b[39mvalue\u001b[38;5;241m.\u001b[39mdecode()  \u001b[38;5;66;03m# pylint: disable=no-member\u001b[39;00m\n\u001b[1;32m   1750\u001b[0m \u001b[38;5;28;01mif\u001b[39;00m feval \u001b[38;5;129;01mis\u001b[39;00m \u001b[38;5;129;01mnot\u001b[39;00m \u001b[38;5;28;01mNone\u001b[39;00m:\n",
      "\u001b[0;31mKeyboardInterrupt\u001b[0m: "
     ]
    }
   ],
   "source": [
    "bst = xgb.train(\n",
    "    params=params,\n",
    "    dtrain=dtrain,\n",
    "    num_boost_round=best_num_rounds,\n",
    "    evals=[(dtrain, 'train'), (dval, 'valid')],\n",
    "    verbose_eval=50\n",
    ")"
   ]
  },
  {
   "cell_type": "code",
   "execution_count": null,
   "id": "jPKDBTQGr9t0",
   "metadata": {
    "colab": {
     "base_uri": "https://localhost:8080/"
    },
    "id": "jPKDBTQGr9t0",
    "outputId": "581e6d72-75e8-4397-e56a-13f658956332"
   },
   "outputs": [],
   "source": [
    "y_pred = bst.predict(dval)\n",
    "auc = roc_auc_score(y_val, y_pred)\n",
    "print(f\"验证集 AUC: {auc:.4f}\")"
   ]
  },
  {
   "cell_type": "code",
   "execution_count": null,
   "id": "G-sFgQBe0Ogi",
   "metadata": {
    "id": "G-sFgQBe0Ogi"
   },
   "outputs": [],
   "source": [
    "# 清洗\n",
    "X_test = data_test_a[features].replace([np.inf, -np.inf], np.nan).fillna(-1)\n",
    "\n",
    "# 构造 DMatrix\n",
    "dtest = xgb.DMatrix(X_test)\n"
   ]
  },
  {
   "cell_type": "code",
   "execution_count": null,
   "id": "3WqJn4lQ0ZkP",
   "metadata": {
    "id": "3WqJn4lQ0ZkP"
   },
   "outputs": [],
   "source": [
    "test_pred = bst.predict(dtest)"
   ]
  },
  {
   "cell_type": "code",
   "execution_count": null,
   "id": "e0ac68ca-8fc4-4af7-ba97-cd89afef1b3c",
   "metadata": {},
   "outputs": [],
   "source": [
    "import joblib\n",
    "joblib.dump(bst, \"model_xgb.pkl\")"
   ]
  },
  {
   "cell_type": "code",
   "execution_count": null,
   "id": "cc20b505-5ad5-40a1-8faf-221c42e803d1",
   "metadata": {},
   "outputs": [],
   "source": [
    "submit = pd.DataFrame({\n",
    "    'id': pd.read_csv('testA.csv')['id'],\n",
    "    'isDefault': test_pred\n",
    "})\n",
    "\n",
    "submit.to_csv('submission.csv', index=False)"
   ]
  },
  {
   "cell_type": "code",
   "execution_count": null,
   "id": "ba662bce-e47c-472e-bb0e-d9ff844d8452",
   "metadata": {},
   "outputs": [],
   "source": []
  }
 ],
 "metadata": {
  "colab": {
   "provenance": []
  },
  "kernelspec": {
   "display_name": "Python 3.10 - AzureML",
   "language": "python",
   "name": "python38-azureml"
  },
  "language_info": {
   "codemirror_mode": {
    "name": "ipython",
    "version": 3
   },
   "file_extension": ".py",
   "mimetype": "text/x-python",
   "name": "python",
   "nbconvert_exporter": "python",
   "pygments_lexer": "ipython3",
   "version": "3.10.11"
  }
 },
 "nbformat": 4,
 "nbformat_minor": 5
}
